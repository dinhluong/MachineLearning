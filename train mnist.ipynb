{
 "cells": [
  {
   "cell_type": "code",
   "execution_count": 4,
   "metadata": {},
   "outputs": [],
   "source": [
    "import tensorflow as tf\n",
    "\n",
    "import tensorflow_datasets as tfds\n",
    "import os\n",
    "\n",
    "os.environ['TF_CPP_MIN_LOG_LEVEL'] = '2'\n",
    "mnist_train, info = tfds.load('mnist', split = 'train', as_supervised=True, with_info=True)\n",
    "mnist_test = tfds.load('mnist', split='test', as_supervised=True)"
   ]
  },
  {
   "cell_type": "code",
   "execution_count": 19,
   "metadata": {},
   "outputs": [],
   "source": [
    "def compile_model(new_model):\n",
    "    new_model.compile(optimizer='adam', loss='sparse_categorical_crossentropy', metrics=['accuracy'])\n",
    "    print(new_model.summary())\n",
    "    return new_model\n",
    "\n",
    "def create_model():\n",
    "    new_model = tf.keras.Sequential([\n",
    "        tf.keras.layers.InputLayer((28,28,1)),\n",
    "        tf.keras.layers.Flatten(),\n",
    "        tf.keras.layers.Dense(64, activation='relu'),\n",
    "        tf.keras.layers.Dense(10, activation='softmax')\n",
    "    ])\n",
    "    return compile_model(new_model)\n"
   ]
  },
  {
   "cell_type": "code",
   "execution_count": 20,
   "metadata": {},
   "outputs": [],
   "source": [
    "def wrangle_data(dataset, split):\n",
    "    wrangled = dataset.map(lambda img, lbl: (tf.cast(img, tf.float32)/255.0, lbl))\n",
    "    wrangled = wrangled.cache()\n",
    "    if split == 'train':\n",
    "        wrangled = wrangled.shuffle(60000)\n",
    "    return wrangled.batch(64).prefetch(tf.data.AUTOTUNE)\n"
   ]
  },
  {
   "cell_type": "code",
   "execution_count": 21,
   "metadata": {},
   "outputs": [
    {
     "name": "stdout",
     "output_type": "stream",
     "text": [
      "Model: \"sequential\"\n",
      "_________________________________________________________________\n",
      " Layer (type)                Output Shape              Param #   \n",
      "=================================================================\n",
      " flatten (Flatten)           (None, 784)               0         \n",
      "                                                                 \n",
      " dense (Dense)               (None, 64)                50240     \n",
      "                                                                 \n",
      " dense_1 (Dense)             (None, 10)                650       \n",
      "                                                                 \n",
      "=================================================================\n",
      "Total params: 50,890\n",
      "Trainable params: 50,890\n",
      "Non-trainable params: 0\n",
      "_________________________________________________________________\n",
      "None\n",
      "Epoch 1/5\n",
      "938/938 [==============================] - 3s 2ms/step - loss: 0.3448 - accuracy: 0.9045\n",
      "Epoch 2/5\n",
      "938/938 [==============================] - 2s 2ms/step - loss: 0.1705 - accuracy: 0.9517\n",
      "Epoch 3/5\n",
      "938/938 [==============================] - 2s 2ms/step - loss: 0.1252 - accuracy: 0.9643\n",
      "Epoch 4/5\n",
      "938/938 [==============================] - 2s 2ms/step - loss: 0.0999 - accuracy: 0.9704\n",
      "Epoch 5/5\n",
      "938/938 [==============================] - 1s 2ms/step - loss: 0.0819 - accuracy: 0.9763\n"
     ]
    }
   ],
   "source": [
    "train_data = wrangle_data(mnist_train, 'train')\n",
    "test_data = wrangle_data(mnist_test, 'test')\n",
    "model = create_model()\n",
    "history = model.fit(train_data, epochs=5)"
   ]
  },
  {
   "cell_type": "code",
   "execution_count": 22,
   "metadata": {},
   "outputs": [
    {
     "name": "stdout",
     "output_type": "stream",
     "text": [
      "157/157 [==============================] - 1s 3ms/step - loss: 0.0992 - accuracy: 0.9696\n"
     ]
    },
    {
     "data": {
      "text/plain": [
       "[0.09916854649782181, 0.9696000218391418]"
      ]
     },
     "execution_count": 22,
     "metadata": {},
     "output_type": "execute_result"
    }
   ],
   "source": [
    "model.evaluate(test_data)"
   ]
  },
  {
   "cell_type": "code",
   "execution_count": 23,
   "metadata": {},
   "outputs": [],
   "source": [
    "model.save('mnist.h5')"
   ]
  },
  {
   "cell_type": "code",
   "execution_count": null,
   "metadata": {},
   "outputs": [],
   "source": []
  }
 ],
 "metadata": {
  "kernelspec": {
   "display_name": "base",
   "language": "python",
   "name": "python3"
  },
  "language_info": {
   "codemirror_mode": {
    "name": "ipython",
    "version": 3
   },
   "file_extension": ".py",
   "mimetype": "text/x-python",
   "name": "python",
   "nbconvert_exporter": "python",
   "pygments_lexer": "ipython3",
   "version": "3.10.9"
  },
  "orig_nbformat": 4,
  "vscode": {
   "interpreter": {
    "hash": "d3c028d0968319f4217a6790469060a7a3ef7b44a400eb03a26dbd9537a1d756"
   }
  }
 },
 "nbformat": 4,
 "nbformat_minor": 2
}
