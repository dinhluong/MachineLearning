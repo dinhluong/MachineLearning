{
 "cells": [
  {
   "cell_type": "code",
   "execution_count": 18,
   "metadata": {},
   "outputs": [],
   "source": [
    "import tensorflow as tf\n",
    "import pandas as pd\n",
    "import tensorflow_datasets as tfds\n",
    "import os\n",
    "\n",
    "os.environ['TF_CPP_MIN_LOG_LEVEL'] = '2'"
   ]
  },
  {
   "cell_type": "code",
   "execution_count": 21,
   "metadata": {},
   "outputs": [],
   "source": [
    "def retrieve_iris_data():\n",
    "    iris_url = 'https://archive.ics.uci.edu/ml/machine-learning-databases/iris/iris.data'\n",
    "    cache_dir = '.'\n",
    "    cache_subdir = 'data'\n",
    "    iris_file = tf.keras.utils.get_file('iris_data', iris_url,\n",
    "                                        cache_dir=cache_dir, cache_subdir=cache_subdir)\n",
    "    return iris_file\n",
    "\n",
    "iris_collumns = ['sepal_length',  'sepal_with', 'peta_length', 'peta_with', 'species']\n",
    "label_map = {'Iris-setosa': 0, 'Iris-versicolor': 1, 'Iris-virginica': 2}\n",
    "def parse_iris_data(iris_filepath):\n",
    "    iris_df = pd.read_csv(iris_filepath, names=iris_collumns)\n",
    "    iris_df['species'].replace(label_map, inplace=True)\n",
    "\n",
    "    return iris_df\n",
    "\n",
    "def convert_iris_to_dataset(iris_dataframe):\n",
    "    features = iris_dataframe[iris_collumns[:4]]\n",
    "    labels = iris_dataframe[iris_collumns[-1]]\n",
    "    iris_dataset = tf.data.Dataset.from_tensor_slices((features, labels))\n",
    "    return iris_dataset\n"
   ]
  },
  {
   "cell_type": "code",
   "execution_count": 22,
   "metadata": {},
   "outputs": [],
   "source": [
    "iris_filepath = retrieve_iris_data()\n",
    "iris_data = parse_iris_data(iris_filepath)\n",
    "iris_ds = convert_iris_to_dataset(iris_data)"
   ]
  },
  {
   "cell_type": "code",
   "execution_count": 23,
   "metadata": {},
   "outputs": [
    {
     "name": "stdout",
     "output_type": "stream",
     "text": [
      "tf.Tensor([5.1 3.5 1.4 0.2], shape=(4,), dtype=float64) tf.Tensor(0, shape=(), dtype=int64)\n",
      "tf.Tensor([4.9 3.  1.4 0.2], shape=(4,), dtype=float64) tf.Tensor(0, shape=(), dtype=int64)\n",
      "tf.Tensor([4.7 3.2 1.3 0.2], shape=(4,), dtype=float64) tf.Tensor(0, shape=(), dtype=int64)\n",
      "tf.Tensor([4.6 3.1 1.5 0.2], shape=(4,), dtype=float64) tf.Tensor(0, shape=(), dtype=int64)\n",
      "tf.Tensor([5.  3.6 1.4 0.2], shape=(4,), dtype=float64) tf.Tensor(0, shape=(), dtype=int64)\n"
     ]
    }
   ],
   "source": [
    "for d, l in iris_ds.take(5):\n",
    "    print(d,l)"
   ]
  },
  {
   "cell_type": "code",
   "execution_count": null,
   "metadata": {},
   "outputs": [],
   "source": []
  }
 ],
 "metadata": {
  "kernelspec": {
   "display_name": "python3.10",
   "language": "python",
   "name": "python3"
  },
  "language_info": {
   "codemirror_mode": {
    "name": "ipython",
    "version": 3
   },
   "file_extension": ".py",
   "mimetype": "text/x-python",
   "name": "python",
   "nbconvert_exporter": "python",
   "pygments_lexer": "ipython3",
   "version": "3.10.9"
  },
  "orig_nbformat": 4
 },
 "nbformat": 4,
 "nbformat_minor": 2
}
