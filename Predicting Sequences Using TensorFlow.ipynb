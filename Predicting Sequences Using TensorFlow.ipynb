{
 "cells": [
  {
   "cell_type": "code",
   "execution_count": 14,
   "metadata": {},
   "outputs": [],
   "source": [
    "import os\n",
    "import tensorflow as tf\n",
    "from tensorflow.keras.callbacks import EarlyStopping, ModelCheckpoint\n",
    "import matplotlib.pyplot as plt\n",
    "import numpy as np\n",
    "import json\n",
    "from history import plot_history, save_history\n",
    "\n",
    "os.environ['TF_CPP_MIN_LOG_LEVEL'] = '2'"
   ]
  },
  {
   "cell_type": "code",
   "execution_count": 17,
   "metadata": {},
   "outputs": [],
   "source": [
    "def retrieve_data():\n",
    "    precipitation_url = 'https://www.ncei.noaa.gov/access/monitoring/climate-at-a-glance/national/time-series/110-pcp-all-12-1900-2020.json'\n",
    "    cache_dir = './'\n",
    "    cache_subdir = \"data\"\n",
    "    filename = \"monthly_precipitation.json\"\n",
    "    precip_file = tf.keras.utils.get_file(filename, precipitation_url, cache_dir=cache_dir, cache_subdir=cache_subdir)\n",
    "\n",
    "    with open(precip_file) as f:\n",
    "        precip_raw = json.load(f)\n",
    "\n",
    "    precip_data = precip_raw['data']\n",
    "\n",
    "    time = []\n",
    "    precipitation = []\n",
    "\n",
    "    for month in precip_data:\n",
    "        time.append(month)\n",
    "        precipitation.append(float(precip_data[month]['value']))\n",
    "\n",
    "    return np.array(precipitation), time"
   ]
  },
  {
   "cell_type": "code",
   "execution_count": null,
   "metadata": {},
   "outputs": [],
   "source": [
    "monthly_precip, time_dates = retrieve_data()\n",
    "time_steps = list(range(len(time_dates)))\n"
   ]
  },
  {
   "cell_type": "code",
   "execution_count": 28,
   "metadata": {},
   "outputs": [],
   "source": [
    "def split_data(sequence, time, split_time):\n",
    "    main_seq = sequence[:split_time]\n",
    "    main_time = time[:split_time]\n",
    "\n",
    "    extra_seq = sequence[split_time:]\n",
    "    extra_time = sequence[split_time:]\n",
    "\n",
    "    print(f'Splitting into {len(main_seq)} main examples and {len(extra_seq)} extra samples. ')\n",
    "\n",
    "    return main_seq, main_time, extra_seq, extra_time"
   ]
  },
  {
   "cell_type": "code",
   "execution_count": 29,
   "metadata": {},
   "outputs": [],
   "source": [
    "def wrangle_data(sequence, data_split, examples, batch_size):\n",
    "    examples = examples + 1\n",
    "    seq_expand = tf.expand_dims(sequence, -1)\n",
    "    dataset = tf.data.Dataset.from_tensor_slices(seq_expand)\n",
    "    dataset = dataset.window(examples, shift=1, drop_remainder=True)\n",
    "    dataset = dataset.flat_map(lambda b: b.batch(examples))\n",
    "    dataset = dataset.map(lambda x: (x[:-1],x[-1]))\n",
    "\n",
    "    if data_split == 'train':\n",
    "        dataset = dataset.shuffle(10000)\n",
    "    else:\n",
    "        dataset = dataset.cache()\n",
    "    dataset = dataset.batch(batch_size)\n",
    "    dataset = dataset.prefetch(tf.data.AUTOTUNE)\n",
    "\n",
    "    return dataset"
   ]
  },
  {
   "cell_type": "code",
   "execution_count": 30,
   "metadata": {},
   "outputs": [
    {
     "name": "stdout",
     "output_type": "stream",
     "text": [
      "Splitting into 1200 main examples and 252 extra samples. \n",
      "Splitting into 1080 main examples and 120 extra samples. \n"
     ]
    }
   ],
   "source": [
    "min_precip = np.min(monthly_precip)\n",
    "max_precip = np.max(monthly_precip)\n",
    "precip_norm = (monthly_precip - min_precip)/(max_precip - min_precip)\n",
    "\n",
    "test_split = time_dates.index('200001')\n",
    "valid_split = time_dates.index('199001')\n",
    "\n",
    "\n",
    "train_valid_sp, train_valid_time, test_sp, test_time = split_data(precip_norm, time_steps, test_split)\n",
    "train_sp, train_time, valid_sp, valid_time = split_data(train_valid_sp, train_valid_time, valid_split)"
   ]
  },
  {
   "cell_type": "code",
   "execution_count": 31,
   "metadata": {},
   "outputs": [
    {
     "name": "stdout",
     "output_type": "stream",
     "text": [
      "WARNING:tensorflow:From c:\\Users\\LuongPD\\anaconda3\\envs\\python3.10\\lib\\site-packages\\tensorflow\\python\\autograph\\pyct\\static_analysis\\liveness.py:83: Analyzer.lamba_check (from tensorflow.python.autograph.pyct.static_analysis.liveness) is deprecated and will be removed after 2023-09-23.\n",
      "Instructions for updating:\n",
      "Lambda fuctions will be no more assumed to be used in the statement where they are used, or at least in the same block. https://github.com/tensorflow/tensorflow/issues/56089\n"
     ]
    }
   ],
   "source": [
    "examples = 6\n",
    "batch_size = 16\n",
    "\n",
    "train_data = wrangle_data(train_sp, 'train', examples, batch_size)\n",
    "valid_data = wrangle_data(valid_sp, 'valid', examples, batch_size)\n",
    "test_data = wrangle_data(test_sp, 'test', examples, batch_size)\n"
   ]
  },
  {
   "cell_type": "code",
   "execution_count": 32,
   "metadata": {},
   "outputs": [],
   "source": [
    "def compile_model(new_model):\n",
    "    new_model.compile(optimizer='adam', loss='mae', metrics=[tf.metrics.RootMeanSquaredError()])\n",
    "    print(new_model.summary())\n",
    "    return new_model"
   ]
  },
  {
   "cell_type": "code",
   "execution_count": 33,
   "metadata": {},
   "outputs": [],
   "source": [
    "def rnn_model():\n",
    "    new_model = tf.keras.models.Sequential([\n",
    "        tf.keras.layers.InputLayer((None, 1)),\n",
    "        tf.keras.layers.Conv1D(64, 3, padding='causal', activation='relu'),\n",
    "        tf.keras.layers.LSTM(48),\n",
    "        tf.keras.layers.Dense(36, activation=\"relu\"),\n",
    "        tf.keras.layers.Dense(1)\n",
    "    ])\n",
    "    return compile_model(new_model)"
   ]
  },
  {
   "cell_type": "code",
   "execution_count": 34,
   "metadata": {},
   "outputs": [],
   "source": [
    "def plot_sequence(time, sequences, start=0, end=None):\n",
    "    y_min, y_max = (0.0, 1.0)\n",
    "    if len(np.shape(sequences)) == 1:\n",
    "        sequences = [sequences]\n",
    "    time = time[start:end]\n",
    "    plt.figure(figsize=(28, 8))\n",
    "    for sequence in sequences:\n",
    "        y_max = max(np.max(sequence), y_max)\n",
    "        y_min = min(np.min(sequence), y_min)\n",
    "        sequence = sequence[start:end]\n",
    "        plt.plot(time, sequence)\n",
    "    plt.ylim(y_min, y_max)\n",
    "    plt.xlim(np.min(time), np.max(time))"
   ]
  },
  {
   "cell_type": "code",
   "execution_count": 35,
   "metadata": {},
   "outputs": [],
   "source": [
    "def save_model(model, name, history, test_data):\n",
    "    test_loss, test_rmse = model.evaluate(test_data)\n",
    "\n",
    "    # Save model information\n",
    "    save_name = f'models/precip/{name}-{len(history.epoch):02d}-{test_rmse:0.4f}'\n",
    "    model.save(f'{save_name}.h5')\n",
    "\n",
    "    # Save history information\n",
    "    save_history(history, save_name)"
   ]
  },
  {
   "cell_type": "code",
   "execution_count": 36,
   "metadata": {},
   "outputs": [],
   "source": [
    "def show_predictions(trained_model, predict_sequence, true_values, predict_time, begin=0, end=None):\n",
    "    predictions = trained_model.predict(predict_sequence)\n",
    "    predictions = predictions[:, -1].reshape(len(predictions))\n",
    "    plot_sequence(predict_time, (true_values, predictions), begin, end)\n",
    "    return predictions"
   ]
  },
  {
   "cell_type": "code",
   "execution_count": 39,
   "metadata": {},
   "outputs": [
    {
     "name": "stdout",
     "output_type": "stream",
     "text": [
      "Model: \"sequential\"\n",
      "_________________________________________________________________\n",
      " Layer (type)                Output Shape              Param #   \n",
      "=================================================================\n",
      " conv1d (Conv1D)             (None, None, 64)          256       \n",
      "                                                                 \n",
      " lstm (LSTM)                 (None, 48)                21696     \n",
      "                                                                 \n",
      " dense (Dense)               (None, 36)                1764      \n",
      "                                                                 \n",
      " dense_1 (Dense)             (None, 1)                 37        \n",
      "                                                                 \n",
      "=================================================================\n",
      "Total params: 23,753\n",
      "Trainable params: 23,753\n",
      "Non-trainable params: 0\n",
      "_________________________________________________________________\n",
      "None\n",
      "Epoch 1/100\n",
      "     66/Unknown - 3s 3ms/step - loss: 0.1674 - root_mean_squared_error: 0.2188"
     ]
    },
    {
     "name": "stderr",
     "output_type": "stream",
     "text": [
      "WARNING:absl:Found untraced functions such as _jit_compiled_convolution_op, _update_step_xla, lstm_cell_layer_call_fn, lstm_cell_layer_call_and_return_conditional_losses while saving (showing 4 of 4). These functions will not be directly callable after loading.\n"
     ]
    },
    {
     "name": "stdout",
     "output_type": "stream",
     "text": [
      "INFO:tensorflow:Assets written to: ckpts/precip/rnn\\01-0.1075\\assets\n"
     ]
    },
    {
     "name": "stderr",
     "output_type": "stream",
     "text": [
      "INFO:tensorflow:Assets written to: ckpts/precip/rnn\\01-0.1075\\assets\n"
     ]
    },
    {
     "name": "stdout",
     "output_type": "stream",
     "text": [
      "68/68 [==============================] - 8s 81ms/step - loss: 0.1669 - root_mean_squared_error: 0.2180 - val_loss: 0.1075 - val_root_mean_squared_error: 0.1365\n",
      "Epoch 2/100\n",
      "64/68 [===========================>..] - ETA: 0s - loss: 0.1190 - root_mean_squared_error: 0.1484"
     ]
    },
    {
     "name": "stderr",
     "output_type": "stream",
     "text": [
      "WARNING:absl:Found untraced functions such as _jit_compiled_convolution_op, _update_step_xla, lstm_cell_layer_call_fn, lstm_cell_layer_call_and_return_conditional_losses while saving (showing 4 of 4). These functions will not be directly callable after loading.\n"
     ]
    },
    {
     "name": "stdout",
     "output_type": "stream",
     "text": [
      "INFO:tensorflow:Assets written to: ckpts/precip/rnn\\02-0.1037\\assets\n"
     ]
    },
    {
     "name": "stderr",
     "output_type": "stream",
     "text": [
      "INFO:tensorflow:Assets written to: ckpts/precip/rnn\\02-0.1037\\assets\n"
     ]
    },
    {
     "name": "stdout",
     "output_type": "stream",
     "text": [
      "68/68 [==============================] - 5s 68ms/step - loss: 0.1187 - root_mean_squared_error: 0.1486 - val_loss: 0.1037 - val_root_mean_squared_error: 0.1284\n",
      "Epoch 3/100\n",
      "66/68 [============================>.] - ETA: 0s - loss: 0.1157 - root_mean_squared_error: 0.1442"
     ]
    },
    {
     "name": "stderr",
     "output_type": "stream",
     "text": [
      "WARNING:absl:Found untraced functions such as _jit_compiled_convolution_op, _update_step_xla, lstm_cell_layer_call_fn, lstm_cell_layer_call_and_return_conditional_losses while saving (showing 4 of 4). These functions will not be directly callable after loading.\n"
     ]
    },
    {
     "name": "stdout",
     "output_type": "stream",
     "text": [
      "INFO:tensorflow:Assets written to: ckpts/precip/rnn\\03-0.1078\\assets\n"
     ]
    },
    {
     "name": "stderr",
     "output_type": "stream",
     "text": [
      "INFO:tensorflow:Assets written to: ckpts/precip/rnn\\03-0.1078\\assets\n"
     ]
    },
    {
     "name": "stdout",
     "output_type": "stream",
     "text": [
      "68/68 [==============================] - 4s 65ms/step - loss: 0.1153 - root_mean_squared_error: 0.1437 - val_loss: 0.1078 - val_root_mean_squared_error: 0.1381\n",
      "Epoch 4/100\n",
      "67/68 [============================>.] - ETA: 0s - loss: 0.1133 - root_mean_squared_error: 0.1427"
     ]
    },
    {
     "name": "stderr",
     "output_type": "stream",
     "text": [
      "WARNING:absl:Found untraced functions such as _jit_compiled_convolution_op, _update_step_xla, lstm_cell_layer_call_fn, lstm_cell_layer_call_and_return_conditional_losses while saving (showing 4 of 4). These functions will not be directly callable after loading.\n"
     ]
    },
    {
     "name": "stdout",
     "output_type": "stream",
     "text": [
      "INFO:tensorflow:Assets written to: ckpts/precip/rnn\\04-0.0993\\assets\n"
     ]
    },
    {
     "name": "stderr",
     "output_type": "stream",
     "text": [
      "INFO:tensorflow:Assets written to: ckpts/precip/rnn\\04-0.0993\\assets\n"
     ]
    },
    {
     "name": "stdout",
     "output_type": "stream",
     "text": [
      "68/68 [==============================] - 4s 61ms/step - loss: 0.1133 - root_mean_squared_error: 0.1426 - val_loss: 0.0993 - val_root_mean_squared_error: 0.1243\n",
      "Epoch 5/100\n",
      "58/68 [========================>.....] - ETA: 0s - loss: 0.1140 - root_mean_squared_error: 0.1420"
     ]
    },
    {
     "name": "stderr",
     "output_type": "stream",
     "text": [
      "WARNING:absl:Found untraced functions such as _jit_compiled_convolution_op, _update_step_xla, lstm_cell_layer_call_fn, lstm_cell_layer_call_and_return_conditional_losses while saving (showing 4 of 4). These functions will not be directly callable after loading.\n"
     ]
    },
    {
     "name": "stdout",
     "output_type": "stream",
     "text": [
      "INFO:tensorflow:Assets written to: ckpts/precip/rnn\\05-0.1032\\assets\n"
     ]
    },
    {
     "name": "stderr",
     "output_type": "stream",
     "text": [
      "INFO:tensorflow:Assets written to: ckpts/precip/rnn\\05-0.1032\\assets\n"
     ]
    },
    {
     "name": "stdout",
     "output_type": "stream",
     "text": [
      "68/68 [==============================] - 4s 64ms/step - loss: 0.1134 - root_mean_squared_error: 0.1422 - val_loss: 0.1032 - val_root_mean_squared_error: 0.1254\n",
      "Epoch 6/100\n",
      "62/68 [==========================>...] - ETA: 0s - loss: 0.1110 - root_mean_squared_error: 0.1400"
     ]
    },
    {
     "name": "stderr",
     "output_type": "stream",
     "text": [
      "WARNING:absl:Found untraced functions such as _jit_compiled_convolution_op, _update_step_xla, lstm_cell_layer_call_fn, lstm_cell_layer_call_and_return_conditional_losses while saving (showing 4 of 4). These functions will not be directly callable after loading.\n"
     ]
    },
    {
     "name": "stdout",
     "output_type": "stream",
     "text": [
      "INFO:tensorflow:Assets written to: ckpts/precip/rnn\\06-0.1242\\assets\n"
     ]
    },
    {
     "name": "stderr",
     "output_type": "stream",
     "text": [
      "INFO:tensorflow:Assets written to: ckpts/precip/rnn\\06-0.1242\\assets\n"
     ]
    },
    {
     "name": "stdout",
     "output_type": "stream",
     "text": [
      "68/68 [==============================] - 4s 61ms/step - loss: 0.1101 - root_mean_squared_error: 0.1390 - val_loss: 0.1242 - val_root_mean_squared_error: 0.1550\n",
      "Epoch 7/100\n",
      "62/68 [==========================>...] - ETA: 0s - loss: 0.1114 - root_mean_squared_error: 0.1396"
     ]
    },
    {
     "name": "stderr",
     "output_type": "stream",
     "text": [
      "WARNING:absl:Found untraced functions such as _jit_compiled_convolution_op, _update_step_xla, lstm_cell_layer_call_fn, lstm_cell_layer_call_and_return_conditional_losses while saving (showing 4 of 4). These functions will not be directly callable after loading.\n"
     ]
    },
    {
     "name": "stdout",
     "output_type": "stream",
     "text": [
      "INFO:tensorflow:Assets written to: ckpts/precip/rnn\\07-0.0975\\assets\n"
     ]
    },
    {
     "name": "stderr",
     "output_type": "stream",
     "text": [
      "INFO:tensorflow:Assets written to: ckpts/precip/rnn\\07-0.0975\\assets\n"
     ]
    },
    {
     "name": "stdout",
     "output_type": "stream",
     "text": [
      "68/68 [==============================] - 4s 65ms/step - loss: 0.1116 - root_mean_squared_error: 0.1398 - val_loss: 0.0975 - val_root_mean_squared_error: 0.1211\n",
      "Epoch 8/100\n",
      "63/68 [==========================>...] - ETA: 0s - loss: 0.1141 - root_mean_squared_error: 0.1446"
     ]
    },
    {
     "name": "stderr",
     "output_type": "stream",
     "text": [
      "WARNING:absl:Found untraced functions such as _jit_compiled_convolution_op, _update_step_xla, lstm_cell_layer_call_fn, lstm_cell_layer_call_and_return_conditional_losses while saving (showing 4 of 4). These functions will not be directly callable after loading.\n"
     ]
    },
    {
     "name": "stdout",
     "output_type": "stream",
     "text": [
      "INFO:tensorflow:Assets written to: ckpts/precip/rnn\\08-0.0967\\assets\n"
     ]
    },
    {
     "name": "stderr",
     "output_type": "stream",
     "text": [
      "INFO:tensorflow:Assets written to: ckpts/precip/rnn\\08-0.0967\\assets\n"
     ]
    },
    {
     "name": "stdout",
     "output_type": "stream",
     "text": [
      "68/68 [==============================] - 4s 61ms/step - loss: 0.1134 - root_mean_squared_error: 0.1435 - val_loss: 0.0967 - val_root_mean_squared_error: 0.1209\n",
      "Epoch 9/100\n",
      "64/68 [===========================>..] - ETA: 0s - loss: 0.1102 - root_mean_squared_error: 0.1378"
     ]
    },
    {
     "name": "stderr",
     "output_type": "stream",
     "text": [
      "WARNING:absl:Found untraced functions such as _jit_compiled_convolution_op, _update_step_xla, lstm_cell_layer_call_fn, lstm_cell_layer_call_and_return_conditional_losses while saving (showing 4 of 4). These functions will not be directly callable after loading.\n"
     ]
    },
    {
     "name": "stdout",
     "output_type": "stream",
     "text": [
      "INFO:tensorflow:Assets written to: ckpts/precip/rnn\\09-0.0964\\assets\n"
     ]
    },
    {
     "name": "stderr",
     "output_type": "stream",
     "text": [
      "INFO:tensorflow:Assets written to: ckpts/precip/rnn\\09-0.0964\\assets\n"
     ]
    },
    {
     "name": "stdout",
     "output_type": "stream",
     "text": [
      "68/68 [==============================] - 4s 65ms/step - loss: 0.1102 - root_mean_squared_error: 0.1379 - val_loss: 0.0964 - val_root_mean_squared_error: 0.1219\n",
      "Epoch 10/100\n",
      "59/68 [=========================>....] - ETA: 0s - loss: 0.1072 - root_mean_squared_error: 0.1345"
     ]
    },
    {
     "name": "stderr",
     "output_type": "stream",
     "text": [
      "WARNING:absl:Found untraced functions such as _jit_compiled_convolution_op, _update_step_xla, lstm_cell_layer_call_fn, lstm_cell_layer_call_and_return_conditional_losses while saving (showing 4 of 4). These functions will not be directly callable after loading.\n"
     ]
    },
    {
     "name": "stdout",
     "output_type": "stream",
     "text": [
      "INFO:tensorflow:Assets written to: ckpts/precip/rnn\\10-0.1208\\assets\n"
     ]
    },
    {
     "name": "stderr",
     "output_type": "stream",
     "text": [
      "INFO:tensorflow:Assets written to: ckpts/precip/rnn\\10-0.1208\\assets\n"
     ]
    },
    {
     "name": "stdout",
     "output_type": "stream",
     "text": [
      "68/68 [==============================] - 4s 64ms/step - loss: 0.1093 - root_mean_squared_error: 0.1364 - val_loss: 0.1208 - val_root_mean_squared_error: 0.1516\n",
      "Epoch 11/100\n",
      "65/68 [===========================>..] - ETA: 0s - loss: 0.1090 - root_mean_squared_error: 0.1372"
     ]
    },
    {
     "name": "stderr",
     "output_type": "stream",
     "text": [
      "WARNING:absl:Found untraced functions such as _jit_compiled_convolution_op, _update_step_xla, lstm_cell_layer_call_fn, lstm_cell_layer_call_and_return_conditional_losses while saving (showing 4 of 4). These functions will not be directly callable after loading.\n"
     ]
    },
    {
     "name": "stdout",
     "output_type": "stream",
     "text": [
      "INFO:tensorflow:Assets written to: ckpts/precip/rnn\\11-0.1081\\assets\n"
     ]
    },
    {
     "name": "stderr",
     "output_type": "stream",
     "text": [
      "INFO:tensorflow:Assets written to: ckpts/precip/rnn\\11-0.1081\\assets\n"
     ]
    },
    {
     "name": "stdout",
     "output_type": "stream",
     "text": [
      "68/68 [==============================] - 4s 61ms/step - loss: 0.1090 - root_mean_squared_error: 0.1372 - val_loss: 0.1081 - val_root_mean_squared_error: 0.1376\n",
      "Epoch 12/100\n",
      "67/68 [============================>.] - ETA: 0s - loss: 0.1106 - root_mean_squared_error: 0.1392"
     ]
    },
    {
     "name": "stderr",
     "output_type": "stream",
     "text": [
      "WARNING:absl:Found untraced functions such as _jit_compiled_convolution_op, _update_step_xla, lstm_cell_layer_call_fn, lstm_cell_layer_call_and_return_conditional_losses while saving (showing 4 of 4). These functions will not be directly callable after loading.\n"
     ]
    },
    {
     "name": "stdout",
     "output_type": "stream",
     "text": [
      "INFO:tensorflow:Assets written to: ckpts/precip/rnn\\12-0.0956\\assets\n"
     ]
    },
    {
     "name": "stderr",
     "output_type": "stream",
     "text": [
      "INFO:tensorflow:Assets written to: ckpts/precip/rnn\\12-0.0956\\assets\n"
     ]
    },
    {
     "name": "stdout",
     "output_type": "stream",
     "text": [
      "68/68 [==============================] - 5s 66ms/step - loss: 0.1104 - root_mean_squared_error: 0.1390 - val_loss: 0.0956 - val_root_mean_squared_error: 0.1208\n",
      "Epoch 13/100\n",
      "68/68 [==============================] - ETA: 0s - loss: 0.1092 - root_mean_squared_error: 0.1377"
     ]
    },
    {
     "name": "stderr",
     "output_type": "stream",
     "text": [
      "WARNING:absl:Found untraced functions such as _jit_compiled_convolution_op, _update_step_xla, lstm_cell_layer_call_fn, lstm_cell_layer_call_and_return_conditional_losses while saving (showing 4 of 4). These functions will not be directly callable after loading.\n"
     ]
    },
    {
     "name": "stdout",
     "output_type": "stream",
     "text": [
      "INFO:tensorflow:Assets written to: ckpts/precip/rnn\\13-0.1053\\assets\n"
     ]
    },
    {
     "name": "stderr",
     "output_type": "stream",
     "text": [
      "INFO:tensorflow:Assets written to: ckpts/precip/rnn\\13-0.1053\\assets\n"
     ]
    },
    {
     "name": "stdout",
     "output_type": "stream",
     "text": [
      "68/68 [==============================] - 5s 67ms/step - loss: 0.1092 - root_mean_squared_error: 0.1377 - val_loss: 0.1053 - val_root_mean_squared_error: 0.1343\n",
      "Epoch 14/100\n",
      "56/68 [=======================>......] - ETA: 0s - loss: 0.1113 - root_mean_squared_error: 0.1400"
     ]
    },
    {
     "name": "stderr",
     "output_type": "stream",
     "text": [
      "WARNING:absl:Found untraced functions such as _jit_compiled_convolution_op, _update_step_xla, lstm_cell_layer_call_fn, lstm_cell_layer_call_and_return_conditional_losses while saving (showing 4 of 4). These functions will not be directly callable after loading.\n"
     ]
    },
    {
     "name": "stdout",
     "output_type": "stream",
     "text": [
      "INFO:tensorflow:Assets written to: ckpts/precip/rnn\\14-0.1040\\assets\n"
     ]
    },
    {
     "name": "stderr",
     "output_type": "stream",
     "text": [
      "INFO:tensorflow:Assets written to: ckpts/precip/rnn\\14-0.1040\\assets\n"
     ]
    },
    {
     "name": "stdout",
     "output_type": "stream",
     "text": [
      "68/68 [==============================] - 5s 66ms/step - loss: 0.1104 - root_mean_squared_error: 0.1387 - val_loss: 0.1040 - val_root_mean_squared_error: 0.1327\n",
      "Epoch 15/100\n",
      "66/68 [============================>.] - ETA: 0s - loss: 0.1094 - root_mean_squared_error: 0.1375"
     ]
    },
    {
     "name": "stderr",
     "output_type": "stream",
     "text": [
      "WARNING:absl:Found untraced functions such as _jit_compiled_convolution_op, _update_step_xla, lstm_cell_layer_call_fn, lstm_cell_layer_call_and_return_conditional_losses while saving (showing 4 of 4). These functions will not be directly callable after loading.\n"
     ]
    },
    {
     "name": "stdout",
     "output_type": "stream",
     "text": [
      "INFO:tensorflow:Assets written to: ckpts/precip/rnn\\15-0.0999\\assets\n"
     ]
    },
    {
     "name": "stderr",
     "output_type": "stream",
     "text": [
      "INFO:tensorflow:Assets written to: ckpts/precip/rnn\\15-0.0999\\assets\n"
     ]
    },
    {
     "name": "stdout",
     "output_type": "stream",
     "text": [
      "68/68 [==============================] - 5s 75ms/step - loss: 0.1089 - root_mean_squared_error: 0.1370 - val_loss: 0.0999 - val_root_mean_squared_error: 0.1274\n",
      "Epoch 16/100\n",
      "65/68 [===========================>..] - ETA: 0s - loss: 0.1088 - root_mean_squared_error: 0.1373"
     ]
    },
    {
     "name": "stderr",
     "output_type": "stream",
     "text": [
      "WARNING:absl:Found untraced functions such as _jit_compiled_convolution_op, _update_step_xla, lstm_cell_layer_call_fn, lstm_cell_layer_call_and_return_conditional_losses while saving (showing 4 of 4). These functions will not be directly callable after loading.\n"
     ]
    },
    {
     "name": "stdout",
     "output_type": "stream",
     "text": [
      "INFO:tensorflow:Assets written to: ckpts/precip/rnn\\16-0.1161\\assets\n"
     ]
    },
    {
     "name": "stderr",
     "output_type": "stream",
     "text": [
      "INFO:tensorflow:Assets written to: ckpts/precip/rnn\\16-0.1161\\assets\n"
     ]
    },
    {
     "name": "stdout",
     "output_type": "stream",
     "text": [
      "68/68 [==============================] - 5s 68ms/step - loss: 0.1086 - root_mean_squared_error: 0.1370 - val_loss: 0.1161 - val_root_mean_squared_error: 0.1469\n",
      "Epoch 17/100\n",
      "57/68 [========================>.....] - ETA: 0s - loss: 0.1095 - root_mean_squared_error: 0.1389"
     ]
    },
    {
     "name": "stderr",
     "output_type": "stream",
     "text": [
      "WARNING:absl:Found untraced functions such as _jit_compiled_convolution_op, _update_step_xla, lstm_cell_layer_call_fn, lstm_cell_layer_call_and_return_conditional_losses while saving (showing 4 of 4). These functions will not be directly callable after loading.\n"
     ]
    },
    {
     "name": "stdout",
     "output_type": "stream",
     "text": [
      "INFO:tensorflow:Assets written to: ckpts/precip/rnn\\17-0.0967\\assets\n"
     ]
    },
    {
     "name": "stderr",
     "output_type": "stream",
     "text": [
      "INFO:tensorflow:Assets written to: ckpts/precip/rnn\\17-0.0967\\assets\n"
     ]
    },
    {
     "name": "stdout",
     "output_type": "stream",
     "text": [
      "68/68 [==============================] - 4s 63ms/step - loss: 0.1102 - root_mean_squared_error: 0.1392 - val_loss: 0.0967 - val_root_mean_squared_error: 0.1229\n",
      "Epoch 18/100\n",
      "56/68 [=======================>......] - ETA: 0s - loss: 0.1063 - root_mean_squared_error: 0.1336"
     ]
    },
    {
     "name": "stderr",
     "output_type": "stream",
     "text": [
      "WARNING:absl:Found untraced functions such as _jit_compiled_convolution_op, _update_step_xla, lstm_cell_layer_call_fn, lstm_cell_layer_call_and_return_conditional_losses while saving (showing 4 of 4). These functions will not be directly callable after loading.\n"
     ]
    },
    {
     "name": "stdout",
     "output_type": "stream",
     "text": [
      "INFO:tensorflow:Assets written to: ckpts/precip/rnn\\18-0.0958\\assets\n"
     ]
    },
    {
     "name": "stderr",
     "output_type": "stream",
     "text": [
      "INFO:tensorflow:Assets written to: ckpts/precip/rnn\\18-0.0958\\assets\n"
     ]
    },
    {
     "name": "stdout",
     "output_type": "stream",
     "text": [
      "68/68 [==============================] - 4s 61ms/step - loss: 0.1082 - root_mean_squared_error: 0.1365 - val_loss: 0.0958 - val_root_mean_squared_error: 0.1216\n",
      "Epoch 19/100\n",
      "64/68 [===========================>..] - ETA: 0s - loss: 0.1093 - root_mean_squared_error: 0.1371"
     ]
    },
    {
     "name": "stderr",
     "output_type": "stream",
     "text": [
      "WARNING:absl:Found untraced functions such as _jit_compiled_convolution_op, _update_step_xla, lstm_cell_layer_call_fn, lstm_cell_layer_call_and_return_conditional_losses while saving (showing 4 of 4). These functions will not be directly callable after loading.\n"
     ]
    },
    {
     "name": "stdout",
     "output_type": "stream",
     "text": [
      "INFO:tensorflow:Assets written to: ckpts/precip/rnn\\19-0.0983\\assets\n"
     ]
    },
    {
     "name": "stderr",
     "output_type": "stream",
     "text": [
      "INFO:tensorflow:Assets written to: ckpts/precip/rnn\\19-0.0983\\assets\n"
     ]
    },
    {
     "name": "stdout",
     "output_type": "stream",
     "text": [
      "68/68 [==============================] - 4s 64ms/step - loss: 0.1096 - root_mean_squared_error: 0.1374 - val_loss: 0.0983 - val_root_mean_squared_error: 0.1250\n",
      "Epoch 20/100\n",
      "64/68 [===========================>..] - ETA: 0s - loss: 0.1079 - root_mean_squared_error: 0.1357"
     ]
    },
    {
     "name": "stderr",
     "output_type": "stream",
     "text": [
      "WARNING:absl:Found untraced functions such as _jit_compiled_convolution_op, _update_step_xla, lstm_cell_layer_call_fn, lstm_cell_layer_call_and_return_conditional_losses while saving (showing 4 of 4). These functions will not be directly callable after loading.\n"
     ]
    },
    {
     "name": "stdout",
     "output_type": "stream",
     "text": [
      "INFO:tensorflow:Assets written to: ckpts/precip/rnn\\20-0.0966\\assets\n"
     ]
    },
    {
     "name": "stderr",
     "output_type": "stream",
     "text": [
      "INFO:tensorflow:Assets written to: ckpts/precip/rnn\\20-0.0966\\assets\n"
     ]
    },
    {
     "name": "stdout",
     "output_type": "stream",
     "text": [
      "68/68 [==============================] - 4s 61ms/step - loss: 0.1079 - root_mean_squared_error: 0.1359 - val_loss: 0.0966 - val_root_mean_squared_error: 0.1203\n",
      "Epoch 21/100\n",
      "60/68 [=========================>....] - ETA: 0s - loss: 0.1096 - root_mean_squared_error: 0.1386"
     ]
    },
    {
     "name": "stderr",
     "output_type": "stream",
     "text": [
      "WARNING:absl:Found untraced functions such as _jit_compiled_convolution_op, _update_step_xla, lstm_cell_layer_call_fn, lstm_cell_layer_call_and_return_conditional_losses while saving (showing 4 of 4). These functions will not be directly callable after loading.\n"
     ]
    },
    {
     "name": "stdout",
     "output_type": "stream",
     "text": [
      "INFO:tensorflow:Assets written to: ckpts/precip/rnn\\21-0.1010\\assets\n"
     ]
    },
    {
     "name": "stderr",
     "output_type": "stream",
     "text": [
      "INFO:tensorflow:Assets written to: ckpts/precip/rnn\\21-0.1010\\assets\n"
     ]
    },
    {
     "name": "stdout",
     "output_type": "stream",
     "text": [
      "68/68 [==============================] - 4s 62ms/step - loss: 0.1096 - root_mean_squared_error: 0.1384 - val_loss: 0.1010 - val_root_mean_squared_error: 0.1287\n",
      "Epoch 22/100\n",
      "63/68 [==========================>...] - ETA: 0s - loss: 0.1097 - root_mean_squared_error: 0.1387"
     ]
    },
    {
     "name": "stderr",
     "output_type": "stream",
     "text": [
      "WARNING:absl:Found untraced functions such as _jit_compiled_convolution_op, _update_step_xla, lstm_cell_layer_call_fn, lstm_cell_layer_call_and_return_conditional_losses while saving (showing 4 of 4). These functions will not be directly callable after loading.\n"
     ]
    },
    {
     "name": "stdout",
     "output_type": "stream",
     "text": [
      "INFO:tensorflow:Assets written to: ckpts/precip/rnn\\22-0.0955\\assets\n"
     ]
    },
    {
     "name": "stderr",
     "output_type": "stream",
     "text": [
      "INFO:tensorflow:Assets written to: ckpts/precip/rnn\\22-0.0955\\assets\n"
     ]
    },
    {
     "name": "stdout",
     "output_type": "stream",
     "text": [
      "68/68 [==============================] - 4s 60ms/step - loss: 0.1091 - root_mean_squared_error: 0.1377 - val_loss: 0.0955 - val_root_mean_squared_error: 0.1211\n",
      "Epoch 23/100\n",
      "63/68 [==========================>...] - ETA: 0s - loss: 0.1094 - root_mean_squared_error: 0.1382"
     ]
    },
    {
     "name": "stderr",
     "output_type": "stream",
     "text": [
      "WARNING:absl:Found untraced functions such as _jit_compiled_convolution_op, _update_step_xla, lstm_cell_layer_call_fn, lstm_cell_layer_call_and_return_conditional_losses while saving (showing 4 of 4). These functions will not be directly callable after loading.\n"
     ]
    },
    {
     "name": "stdout",
     "output_type": "stream",
     "text": [
      "INFO:tensorflow:Assets written to: ckpts/precip/rnn\\23-0.1084\\assets\n"
     ]
    },
    {
     "name": "stderr",
     "output_type": "stream",
     "text": [
      "INFO:tensorflow:Assets written to: ckpts/precip/rnn\\23-0.1084\\assets\n"
     ]
    },
    {
     "name": "stdout",
     "output_type": "stream",
     "text": [
      "68/68 [==============================] - 4s 62ms/step - loss: 0.1090 - root_mean_squared_error: 0.1376 - val_loss: 0.1084 - val_root_mean_squared_error: 0.1383\n",
      "Epoch 24/100\n",
      "64/68 [===========================>..] - ETA: 0s - loss: 0.1115 - root_mean_squared_error: 0.1401"
     ]
    },
    {
     "name": "stderr",
     "output_type": "stream",
     "text": [
      "WARNING:absl:Found untraced functions such as _jit_compiled_convolution_op, _update_step_xla, lstm_cell_layer_call_fn, lstm_cell_layer_call_and_return_conditional_losses while saving (showing 4 of 4). These functions will not be directly callable after loading.\n"
     ]
    },
    {
     "name": "stdout",
     "output_type": "stream",
     "text": [
      "INFO:tensorflow:Assets written to: ckpts/precip/rnn\\24-0.0957\\assets\n"
     ]
    },
    {
     "name": "stderr",
     "output_type": "stream",
     "text": [
      "INFO:tensorflow:Assets written to: ckpts/precip/rnn\\24-0.0957\\assets\n"
     ]
    },
    {
     "name": "stdout",
     "output_type": "stream",
     "text": [
      "68/68 [==============================] - 4s 62ms/step - loss: 0.1124 - root_mean_squared_error: 0.1410 - val_loss: 0.0957 - val_root_mean_squared_error: 0.1214\n",
      "Epoch 25/100\n",
      "64/68 [===========================>..] - ETA: 0s - loss: 0.1082 - root_mean_squared_error: 0.1361"
     ]
    },
    {
     "name": "stderr",
     "output_type": "stream",
     "text": [
      "WARNING:absl:Found untraced functions such as _jit_compiled_convolution_op, _update_step_xla, lstm_cell_layer_call_fn, lstm_cell_layer_call_and_return_conditional_losses while saving (showing 4 of 4). These functions will not be directly callable after loading.\n"
     ]
    },
    {
     "name": "stdout",
     "output_type": "stream",
     "text": [
      "INFO:tensorflow:Assets written to: ckpts/precip/rnn\\25-0.0953\\assets\n"
     ]
    },
    {
     "name": "stderr",
     "output_type": "stream",
     "text": [
      "INFO:tensorflow:Assets written to: ckpts/precip/rnn\\25-0.0953\\assets\n"
     ]
    },
    {
     "name": "stdout",
     "output_type": "stream",
     "text": [
      "68/68 [==============================] - 4s 60ms/step - loss: 0.1085 - root_mean_squared_error: 0.1362 - val_loss: 0.0953 - val_root_mean_squared_error: 0.1208\n",
      "Epoch 26/100\n",
      "65/68 [===========================>..] - ETA: 0s - loss: 0.1092 - root_mean_squared_error: 0.1372"
     ]
    },
    {
     "name": "stderr",
     "output_type": "stream",
     "text": [
      "WARNING:absl:Found untraced functions such as _jit_compiled_convolution_op, _update_step_xla, lstm_cell_layer_call_fn, lstm_cell_layer_call_and_return_conditional_losses while saving (showing 4 of 4). These functions will not be directly callable after loading.\n"
     ]
    },
    {
     "name": "stdout",
     "output_type": "stream",
     "text": [
      "INFO:tensorflow:Assets written to: ckpts/precip/rnn\\26-0.0962\\assets\n"
     ]
    },
    {
     "name": "stderr",
     "output_type": "stream",
     "text": [
      "INFO:tensorflow:Assets written to: ckpts/precip/rnn\\26-0.0962\\assets\n"
     ]
    },
    {
     "name": "stdout",
     "output_type": "stream",
     "text": [
      "68/68 [==============================] - 4s 63ms/step - loss: 0.1088 - root_mean_squared_error: 0.1368 - val_loss: 0.0962 - val_root_mean_squared_error: 0.1219\n",
      "Epoch 27/100\n",
      "61/68 [=========================>....] - ETA: 0s - loss: 0.1087 - root_mean_squared_error: 0.1366"
     ]
    },
    {
     "name": "stderr",
     "output_type": "stream",
     "text": [
      "WARNING:absl:Found untraced functions such as _jit_compiled_convolution_op, _update_step_xla, lstm_cell_layer_call_fn, lstm_cell_layer_call_and_return_conditional_losses while saving (showing 4 of 4). These functions will not be directly callable after loading.\n"
     ]
    },
    {
     "name": "stdout",
     "output_type": "stream",
     "text": [
      "INFO:tensorflow:Assets written to: ckpts/precip/rnn\\27-0.0972\\assets\n"
     ]
    },
    {
     "name": "stderr",
     "output_type": "stream",
     "text": [
      "INFO:tensorflow:Assets written to: ckpts/precip/rnn\\27-0.0972\\assets\n"
     ]
    },
    {
     "name": "stdout",
     "output_type": "stream",
     "text": [
      "68/68 [==============================] - 4s 59ms/step - loss: 0.1087 - root_mean_squared_error: 0.1371 - val_loss: 0.0972 - val_root_mean_squared_error: 0.1233\n",
      "Epoch 28/100\n",
      "64/68 [===========================>..] - ETA: 0s - loss: 0.1089 - root_mean_squared_error: 0.1364"
     ]
    },
    {
     "name": "stderr",
     "output_type": "stream",
     "text": [
      "WARNING:absl:Found untraced functions such as _jit_compiled_convolution_op, _update_step_xla, lstm_cell_layer_call_fn, lstm_cell_layer_call_and_return_conditional_losses while saving (showing 4 of 4). These functions will not be directly callable after loading.\n"
     ]
    },
    {
     "name": "stdout",
     "output_type": "stream",
     "text": [
      "INFO:tensorflow:Assets written to: ckpts/precip/rnn\\28-0.0981\\assets\n"
     ]
    },
    {
     "name": "stderr",
     "output_type": "stream",
     "text": [
      "INFO:tensorflow:Assets written to: ckpts/precip/rnn\\28-0.0981\\assets\n"
     ]
    },
    {
     "name": "stdout",
     "output_type": "stream",
     "text": [
      "68/68 [==============================] - 4s 62ms/step - loss: 0.1086 - root_mean_squared_error: 0.1364 - val_loss: 0.0981 - val_root_mean_squared_error: 0.1214\n",
      "Epoch 29/100\n",
      "62/68 [==========================>...] - ETA: 0s - loss: 0.1086 - root_mean_squared_error: 0.1364"
     ]
    },
    {
     "name": "stderr",
     "output_type": "stream",
     "text": [
      "WARNING:absl:Found untraced functions such as _jit_compiled_convolution_op, _update_step_xla, lstm_cell_layer_call_fn, lstm_cell_layer_call_and_return_conditional_losses while saving (showing 4 of 4). These functions will not be directly callable after loading.\n"
     ]
    },
    {
     "name": "stdout",
     "output_type": "stream",
     "text": [
      "INFO:tensorflow:Assets written to: ckpts/precip/rnn\\29-0.1005\\assets\n"
     ]
    },
    {
     "name": "stderr",
     "output_type": "stream",
     "text": [
      "INFO:tensorflow:Assets written to: ckpts/precip/rnn\\29-0.1005\\assets\n"
     ]
    },
    {
     "name": "stdout",
     "output_type": "stream",
     "text": [
      "68/68 [==============================] - 4s 60ms/step - loss: 0.1093 - root_mean_squared_error: 0.1369 - val_loss: 0.1005 - val_root_mean_squared_error: 0.1281\n",
      "Epoch 30/100\n",
      "64/68 [===========================>..] - ETA: 0s - loss: 0.1069 - root_mean_squared_error: 0.1344"
     ]
    },
    {
     "name": "stderr",
     "output_type": "stream",
     "text": [
      "WARNING:absl:Found untraced functions such as _jit_compiled_convolution_op, _update_step_xla, lstm_cell_layer_call_fn, lstm_cell_layer_call_and_return_conditional_losses while saving (showing 4 of 4). These functions will not be directly callable after loading.\n"
     ]
    },
    {
     "name": "stdout",
     "output_type": "stream",
     "text": [
      "INFO:tensorflow:Assets written to: ckpts/precip/rnn\\30-0.1052\\assets\n"
     ]
    },
    {
     "name": "stderr",
     "output_type": "stream",
     "text": [
      "INFO:tensorflow:Assets written to: ckpts/precip/rnn\\30-0.1052\\assets\n"
     ]
    },
    {
     "name": "stdout",
     "output_type": "stream",
     "text": [
      "68/68 [==============================] - 4s 64ms/step - loss: 0.1080 - root_mean_squared_error: 0.1354 - val_loss: 0.1052 - val_root_mean_squared_error: 0.1343\n",
      "Epoch 31/100\n",
      "63/68 [==========================>...] - ETA: 0s - loss: 0.1084 - root_mean_squared_error: 0.1368"
     ]
    },
    {
     "name": "stderr",
     "output_type": "stream",
     "text": [
      "WARNING:absl:Found untraced functions such as _jit_compiled_convolution_op, _update_step_xla, lstm_cell_layer_call_fn, lstm_cell_layer_call_and_return_conditional_losses while saving (showing 4 of 4). These functions will not be directly callable after loading.\n"
     ]
    },
    {
     "name": "stdout",
     "output_type": "stream",
     "text": [
      "INFO:tensorflow:Assets written to: ckpts/precip/rnn\\31-0.0963\\assets\n"
     ]
    },
    {
     "name": "stderr",
     "output_type": "stream",
     "text": [
      "INFO:tensorflow:Assets written to: ckpts/precip/rnn\\31-0.0963\\assets\n"
     ]
    },
    {
     "name": "stdout",
     "output_type": "stream",
     "text": [
      "68/68 [==============================] - 4s 63ms/step - loss: 0.1088 - root_mean_squared_error: 0.1372 - val_loss: 0.0963 - val_root_mean_squared_error: 0.1223\n",
      "Epoch 32/100\n",
      "59/68 [=========================>....] - ETA: 0s - loss: 0.1091 - root_mean_squared_error: 0.1370"
     ]
    },
    {
     "name": "stderr",
     "output_type": "stream",
     "text": [
      "WARNING:absl:Found untraced functions such as _jit_compiled_convolution_op, _update_step_xla, lstm_cell_layer_call_fn, lstm_cell_layer_call_and_return_conditional_losses while saving (showing 4 of 4). These functions will not be directly callable after loading.\n"
     ]
    },
    {
     "name": "stdout",
     "output_type": "stream",
     "text": [
      "INFO:tensorflow:Assets written to: ckpts/precip/rnn\\32-0.0974\\assets\n"
     ]
    },
    {
     "name": "stderr",
     "output_type": "stream",
     "text": [
      "INFO:tensorflow:Assets written to: ckpts/precip/rnn\\32-0.0974\\assets\n"
     ]
    },
    {
     "name": "stdout",
     "output_type": "stream",
     "text": [
      "68/68 [==============================] - 4s 64ms/step - loss: 0.1079 - root_mean_squared_error: 0.1360 - val_loss: 0.0974 - val_root_mean_squared_error: 0.1235\n",
      "Epoch 33/100\n",
      "58/68 [========================>.....] - ETA: 0s - loss: 0.1086 - root_mean_squared_error: 0.1371"
     ]
    },
    {
     "name": "stderr",
     "output_type": "stream",
     "text": [
      "WARNING:absl:Found untraced functions such as _jit_compiled_convolution_op, _update_step_xla, lstm_cell_layer_call_fn, lstm_cell_layer_call_and_return_conditional_losses while saving (showing 4 of 4). These functions will not be directly callable after loading.\n"
     ]
    },
    {
     "name": "stdout",
     "output_type": "stream",
     "text": [
      "INFO:tensorflow:Assets written to: ckpts/precip/rnn\\33-0.0957\\assets\n"
     ]
    },
    {
     "name": "stderr",
     "output_type": "stream",
     "text": [
      "INFO:tensorflow:Assets written to: ckpts/precip/rnn\\33-0.0957\\assets\n"
     ]
    },
    {
     "name": "stdout",
     "output_type": "stream",
     "text": [
      "68/68 [==============================] - 5s 66ms/step - loss: 0.1094 - root_mean_squared_error: 0.1377 - val_loss: 0.0957 - val_root_mean_squared_error: 0.1201\n",
      "Epoch 34/100\n",
      "61/68 [=========================>....] - ETA: 0s - loss: 0.1054 - root_mean_squared_error: 0.1331"
     ]
    },
    {
     "name": "stderr",
     "output_type": "stream",
     "text": [
      "WARNING:absl:Found untraced functions such as _jit_compiled_convolution_op, _update_step_xla, lstm_cell_layer_call_fn, lstm_cell_layer_call_and_return_conditional_losses while saving (showing 4 of 4). These functions will not be directly callable after loading.\n"
     ]
    },
    {
     "name": "stdout",
     "output_type": "stream",
     "text": [
      "INFO:tensorflow:Assets written to: ckpts/precip/rnn\\34-0.1081\\assets\n"
     ]
    },
    {
     "name": "stderr",
     "output_type": "stream",
     "text": [
      "INFO:tensorflow:Assets written to: ckpts/precip/rnn\\34-0.1081\\assets\n"
     ]
    },
    {
     "name": "stdout",
     "output_type": "stream",
     "text": [
      "68/68 [==============================] - 4s 61ms/step - loss: 0.1081 - root_mean_squared_error: 0.1366 - val_loss: 0.1081 - val_root_mean_squared_error: 0.1382\n",
      "Epoch 35/100\n",
      "54/68 [======================>.......] - ETA: 0s - loss: 0.1072 - root_mean_squared_error: 0.1353"
     ]
    },
    {
     "name": "stderr",
     "output_type": "stream",
     "text": [
      "WARNING:absl:Found untraced functions such as _jit_compiled_convolution_op, _update_step_xla, lstm_cell_layer_call_fn, lstm_cell_layer_call_and_return_conditional_losses while saving (showing 4 of 4). These functions will not be directly callable after loading.\n"
     ]
    },
    {
     "name": "stdout",
     "output_type": "stream",
     "text": [
      "INFO:tensorflow:Assets written to: ckpts/precip/rnn\\35-0.0991\\assets\n"
     ]
    },
    {
     "name": "stderr",
     "output_type": "stream",
     "text": [
      "INFO:tensorflow:Assets written to: ckpts/precip/rnn\\35-0.0991\\assets\n"
     ]
    },
    {
     "name": "stdout",
     "output_type": "stream",
     "text": [
      "68/68 [==============================] - 4s 64ms/step - loss: 0.1077 - root_mean_squared_error: 0.1359 - val_loss: 0.0991 - val_root_mean_squared_error: 0.1261\n",
      "Epoch 36/100\n",
      "62/68 [==========================>...] - ETA: 0s - loss: 0.1103 - root_mean_squared_error: 0.1394"
     ]
    },
    {
     "name": "stderr",
     "output_type": "stream",
     "text": [
      "WARNING:absl:Found untraced functions such as _jit_compiled_convolution_op, _update_step_xla, lstm_cell_layer_call_fn, lstm_cell_layer_call_and_return_conditional_losses while saving (showing 4 of 4). These functions will not be directly callable after loading.\n"
     ]
    },
    {
     "name": "stdout",
     "output_type": "stream",
     "text": [
      "INFO:tensorflow:Assets written to: ckpts/precip/rnn\\36-0.0958\\assets\n"
     ]
    },
    {
     "name": "stderr",
     "output_type": "stream",
     "text": [
      "INFO:tensorflow:Assets written to: ckpts/precip/rnn\\36-0.0958\\assets\n"
     ]
    },
    {
     "name": "stdout",
     "output_type": "stream",
     "text": [
      "68/68 [==============================] - 4s 61ms/step - loss: 0.1108 - root_mean_squared_error: 0.1395 - val_loss: 0.0958 - val_root_mean_squared_error: 0.1217\n",
      "Epoch 37/100\n",
      "66/68 [============================>.] - ETA: 0s - loss: 0.1086 - root_mean_squared_error: 0.1363"
     ]
    },
    {
     "name": "stderr",
     "output_type": "stream",
     "text": [
      "WARNING:absl:Found untraced functions such as _jit_compiled_convolution_op, _update_step_xla, lstm_cell_layer_call_fn, lstm_cell_layer_call_and_return_conditional_losses while saving (showing 4 of 4). These functions will not be directly callable after loading.\n"
     ]
    },
    {
     "name": "stdout",
     "output_type": "stream",
     "text": [
      "INFO:tensorflow:Assets written to: ckpts/precip/rnn\\37-0.1029\\assets\n"
     ]
    },
    {
     "name": "stderr",
     "output_type": "stream",
     "text": [
      "INFO:tensorflow:Assets written to: ckpts/precip/rnn\\37-0.1029\\assets\n"
     ]
    },
    {
     "name": "stdout",
     "output_type": "stream",
     "text": [
      "68/68 [==============================] - 5s 67ms/step - loss: 0.1078 - root_mean_squared_error: 0.1357 - val_loss: 0.1029 - val_root_mean_squared_error: 0.1315\n",
      "Epoch 38/100\n",
      "56/68 [=======================>......] - ETA: 0s - loss: 0.1068 - root_mean_squared_error: 0.1348"
     ]
    },
    {
     "name": "stderr",
     "output_type": "stream",
     "text": [
      "WARNING:absl:Found untraced functions such as _jit_compiled_convolution_op, _update_step_xla, lstm_cell_layer_call_fn, lstm_cell_layer_call_and_return_conditional_losses while saving (showing 4 of 4). These functions will not be directly callable after loading.\n"
     ]
    },
    {
     "name": "stdout",
     "output_type": "stream",
     "text": [
      "INFO:tensorflow:Assets written to: ckpts/precip/rnn\\38-0.1182\\assets\n"
     ]
    },
    {
     "name": "stderr",
     "output_type": "stream",
     "text": [
      "INFO:tensorflow:Assets written to: ckpts/precip/rnn\\38-0.1182\\assets\n"
     ]
    },
    {
     "name": "stdout",
     "output_type": "stream",
     "text": [
      "68/68 [==============================] - 4s 66ms/step - loss: 0.1087 - root_mean_squared_error: 0.1372 - val_loss: 0.1182 - val_root_mean_squared_error: 0.1492\n",
      "Epoch 39/100\n",
      "62/68 [==========================>...] - ETA: 0s - loss: 0.1084 - root_mean_squared_error: 0.1370"
     ]
    },
    {
     "name": "stderr",
     "output_type": "stream",
     "text": [
      "WARNING:absl:Found untraced functions such as _jit_compiled_convolution_op, _update_step_xla, lstm_cell_layer_call_fn, lstm_cell_layer_call_and_return_conditional_losses while saving (showing 4 of 4). These functions will not be directly callable after loading.\n"
     ]
    },
    {
     "name": "stdout",
     "output_type": "stream",
     "text": [
      "INFO:tensorflow:Assets written to: ckpts/precip/rnn\\39-0.0956\\assets\n"
     ]
    },
    {
     "name": "stderr",
     "output_type": "stream",
     "text": [
      "INFO:tensorflow:Assets written to: ckpts/precip/rnn\\39-0.0956\\assets\n"
     ]
    },
    {
     "name": "stdout",
     "output_type": "stream",
     "text": [
      "68/68 [==============================] - 4s 63ms/step - loss: 0.1082 - root_mean_squared_error: 0.1367 - val_loss: 0.0956 - val_root_mean_squared_error: 0.1211\n",
      "Epoch 40/100\n",
      "66/68 [============================>.] - ETA: 0s - loss: 0.1089 - root_mean_squared_error: 0.1371"
     ]
    },
    {
     "name": "stderr",
     "output_type": "stream",
     "text": [
      "WARNING:absl:Found untraced functions such as _jit_compiled_convolution_op, _update_step_xla, lstm_cell_layer_call_fn, lstm_cell_layer_call_and_return_conditional_losses while saving (showing 4 of 4). These functions will not be directly callable after loading.\n"
     ]
    },
    {
     "name": "stdout",
     "output_type": "stream",
     "text": [
      "INFO:tensorflow:Assets written to: ckpts/precip/rnn\\40-0.0955\\assets\n"
     ]
    },
    {
     "name": "stderr",
     "output_type": "stream",
     "text": [
      "INFO:tensorflow:Assets written to: ckpts/precip/rnn\\40-0.0955\\assets\n"
     ]
    },
    {
     "name": "stdout",
     "output_type": "stream",
     "text": [
      "68/68 [==============================] - 4s 65ms/step - loss: 0.1090 - root_mean_squared_error: 0.1372 - val_loss: 0.0955 - val_root_mean_squared_error: 0.1207\n",
      "16/16 [==============================] - 0s 3ms/step - loss: 0.0995 - root_mean_squared_error: 0.1293\n"
     ]
    }
   ],
   "source": [
    "model_name = 'rnn'\n",
    "early_stop = EarlyStopping('val_loss', patience=15, restore_best_weights=True)\n",
    "checkpoint = ModelCheckpoint(filepath=f'ckpts/precip/{model_name}/' + '{epoch:02d}-{val_loss:.4f}')\n",
    "\n",
    "model = rnn_model()\n",
    "history = model.fit(train_data, epochs=100, validation_data=valid_data,\n",
    "                    callbacks=[early_stop, checkpoint])\n",
    "\n",
    "save_model(model, model_name, history, test_data)"
   ]
  },
  {
   "cell_type": "code",
   "execution_count": 40,
   "metadata": {},
   "outputs": [
    {
     "name": "stdout",
     "output_type": "stream",
     "text": [
      "16/16 [==============================] - 1s 3ms/step\n"
     ]
    },
    {
     "data": {
      "text/plain": [
       "array([0.60666823, 0.51690227, 0.45995632, 0.47893953, 0.4934256 ,\n",
       "       0.53790516, 0.47158843, 0.46336687, 0.4951688 , 0.53136533,\n",
       "       0.50011694, 0.54451156, 0.5839442 , 0.5446973 , 0.5054284 ,\n",
       "       0.5032486 , 0.47217953, 0.49625677, 0.50924474, 0.4817658 ,\n",
       "       0.428559  , 0.51138467, 0.51629895, 0.5376328 , 0.54021096,\n",
       "       0.5337544 , 0.5099706 , 0.53164726, 0.5622568 , 0.47834918,\n",
       "       0.53924704, 0.44620478, 0.503047  , 0.53523785, 0.5409002 ,\n",
       "       0.59306467, 0.6128663 , 0.5293997 , 0.5019024 , 0.52729005,\n",
       "       0.45602107, 0.49988806, 0.51488596, 0.47783574, 0.51205295,\n",
       "       0.48871267, 0.51500684, 0.597565  , 0.621311  , 0.5650171 ,\n",
       "       0.5457261 , 0.5385664 , 0.5404782 , 0.5577819 , 0.48365903,\n",
       "       0.5063641 , 0.4781385 , 0.49053183, 0.52590936, 0.5473714 ,\n",
       "       0.5786945 , 0.54203486, 0.5464207 , 0.47075826, 0.48408088,\n",
       "       0.49312335, 0.4989351 , 0.5317913 , 0.45450705, 0.49143392,\n",
       "       0.53184944, 0.51295584, 0.5294782 , 0.52491486, 0.54353094,\n",
       "       0.54830086, 0.55114824, 0.5123212 , 0.5103889 , 0.48745987,\n",
       "       0.44959468, 0.4902073 , 0.52240276, 0.54833263, 0.5654036 ,\n",
       "       0.55770016, 0.5237812 , 0.4813233 , 0.5176884 , 0.4365902 ,\n",
       "       0.5310809 , 0.5192951 , 0.517947  , 0.53216237, 0.5286041 ,\n",
       "       0.5603877 , 0.5677604 , 0.5404578 , 0.55225796, 0.52584976,\n",
       "       0.47787678, 0.45765275, 0.529092  , 0.45757124, 0.43929985,\n",
       "       0.5305919 , 0.5640762 , 0.59856004, 0.57618254, 0.55737984,\n",
       "       0.5220113 , 0.5006714 , 0.64401364, 0.48138863, 0.5286054 ,\n",
       "       0.5437927 , 0.4771171 , 0.49287093, 0.5107001 , 0.5833971 ,\n",
       "       0.6184893 , 0.58821535, 0.5103295 , 0.5117448 , 0.46051943,\n",
       "       0.471917  , 0.5100549 , 0.45683208, 0.47141123, 0.55570805,\n",
       "       0.6127737 , 0.61088765, 0.528271  , 0.49133953, 0.48413184,\n",
       "       0.49986327, 0.4844001 , 0.51038265, 0.50366616, 0.48551038,\n",
       "       0.46575308, 0.5434465 , 0.5139928 , 0.5184432 , 0.5060722 ,\n",
       "       0.5188983 , 0.5191832 , 0.507609  , 0.4951386 , 0.42878276,\n",
       "       0.5269917 , 0.5289699 , 0.488529  , 0.46158108, 0.5442018 ,\n",
       "       0.60176146, 0.6020761 , 0.58664536, 0.51533407, 0.5255417 ,\n",
       "       0.48415375, 0.4608525 , 0.48292655, 0.43062222, 0.48438948,\n",
       "       0.5213275 , 0.5639111 , 0.5633944 , 0.6209549 , 0.5371011 ,\n",
       "       0.5471027 , 0.5250028 , 0.49410453, 0.47455508, 0.5115612 ,\n",
       "       0.4658456 , 0.45227167, 0.48586494, 0.55134845, 0.6959442 ,\n",
       "       0.63207775, 0.55849874, 0.48996127, 0.45156354, 0.5193857 ,\n",
       "       0.58674407, 0.6524352 , 0.5042923 , 0.4552189 , 0.5323888 ,\n",
       "       0.56069547, 0.56696624, 0.5207408 , 0.5361089 , 0.5936342 ,\n",
       "       0.5357282 , 0.49202943, 0.4446392 , 0.5083519 , 0.58253825,\n",
       "       0.51025784, 0.51600987, 0.60251474, 0.5971946 , 0.55581003,\n",
       "       0.5266643 , 0.56933546, 0.4915871 , 0.49777967, 0.444443  ,\n",
       "       0.43063515, 0.4585738 , 0.5515514 , 0.5413884 , 0.52601665,\n",
       "       0.5677897 , 0.5814766 , 0.5457598 , 0.5456081 , 0.59665906,\n",
       "       0.59014106, 0.5201144 , 0.54940057, 0.5109014 , 0.55366313,\n",
       "       0.49755436, 0.55204636, 0.6892326 , 0.59737015, 0.51357204,\n",
       "       0.50954586, 0.4872839 , 0.5483408 , 0.47666427, 0.50284153,\n",
       "       0.5439075 , 0.5180892 , 0.54371154, 0.525304  , 0.55677044,\n",
       "       0.540554  , 0.54383695, 0.5071493 , 0.49783576, 0.4822922 ,\n",
       "       0.4639396 ], dtype=float32)"
      ]
     },
     "execution_count": 40,
     "metadata": {},
     "output_type": "execute_result"
    },
    {
     "data": {
      "image/png": "[encoded data removed]",
      "text/plain": [
       "<Figure size 2800x800 with 1 Axes>"
      ]
     },
     "metadata": {},
     "output_type": "display_data"
    }
   ],
   "source": [
    "show_predictions(model, test_data, test_sp[examples:], test_time[examples:])"
   ]
  },
  {
   "cell_type": "code",
   "execution_count": 41,
   "metadata": {},
   "outputs": [
    {
     "data": {
      "image/png": "[encoded data removed]",
      "text/plain": [
       "<Figure size 2400x800 with 2 Axes>"
      ]
     },
     "metadata": {},
     "output_type": "display_data"
    }
   ],
   "source": [
    "plot_history(history)"
   ]
  },
  {
   "cell_type": "code",
   "execution_count": null,
   "metadata": {},
   "outputs": [],
   "source": []
  }
 ],
 "metadata": {
  "kernelspec": {
   "display_name": "python3.10",
   "language": "python",
   "name": "python3"
  },
  "language_info": {
   "codemirror_mode": {
    "name": "ipython",
    "version": 3
   },
   "file_extension": ".py",
   "mimetype": "text/x-python",
   "name": "python",
   "nbconvert_exporter": "python",
   "pygments_lexer": "ipython3",
   "version": "3.10.9"
  },
  "orig_nbformat": 4
 },
 "nbformat": 4,
 "nbformat_minor": 2
}
